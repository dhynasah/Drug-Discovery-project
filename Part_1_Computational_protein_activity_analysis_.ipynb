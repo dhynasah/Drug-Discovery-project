{
  "cells": [
    {
      "cell_type": "markdown",
      "metadata": {
        "id": "view-in-github",
        "colab_type": "text"
      },
      "source": [
        "<a href=\"https://colab.research.google.com/github/dhynasah/Drug-Discovery-project/blob/main/Part_1_Computational_protein_activity_analysis_.ipynb\" target=\"_parent\"><img src=\"https://colab.research.google.com/assets/colab-badge.svg\" alt=\"Open In Colab\"/></a>"
      ]
    },
    {
      "cell_type": "markdown",
      "metadata": {
        "id": "7kA16NFR3AAs"
      },
      "source": [
        "# **ChEMBL Database**\n"
      ]
    },
    {
      "cell_type": "markdown",
      "metadata": {
        "id": "VlaYVgWm2Npv"
      },
      "source": [
        "This Notebook will  be building a machine learning model using the ChEMBL bioactivity data. \n",
        "\n",
        "The ChEMBL Database is a database that contains curated bioactivity data of more than 2 million compounds. It is compiled from more than 76,000 documents, 1.2 million assays and the data spans 13,000 targets and 1,800 cells and 33,000 indications. [Data as of January 25, 2022; ChEMBL version 29]."
      ]
    },
    {
      "cell_type": "code",
      "execution_count": null,
      "metadata": {
        "id": "S0l3HBH5nhcc",
        "colab": {
          "base_uri": "https://localhost:8080/"
        },
        "outputId": "e0758b9e-cb67-4a18-80fe-ddcfba4a0f4a"
      },
      "outputs": [
        {
          "output_type": "stream",
          "name": "stdout",
          "text": [
            "Collecting chembl_webresource_client\n",
            "  Downloading chembl_webresource_client-0.10.7-py3-none-any.whl (55 kB)\n",
            "\u001b[?25l\r\u001b[K     |██████                          | 10 kB 21.6 MB/s eta 0:00:01\r\u001b[K     |███████████▉                    | 20 kB 12.0 MB/s eta 0:00:01\r\u001b[K     |█████████████████▊              | 30 kB 9.7 MB/s eta 0:00:01\r\u001b[K     |███████████████████████▋        | 40 kB 8.6 MB/s eta 0:00:01\r\u001b[K     |█████████████████████████████▌  | 51 kB 5.3 MB/s eta 0:00:01\r\u001b[K     |████████████████████████████████| 55 kB 2.0 MB/s \n",
            "\u001b[?25hCollecting requests-cache~=0.7.0\n",
            "  Downloading requests_cache-0.7.5-py3-none-any.whl (39 kB)\n",
            "Requirement already satisfied: urllib3 in /usr/local/lib/python3.7/dist-packages (from chembl_webresource_client) (1.24.3)\n",
            "Requirement already satisfied: requests>=2.18.4 in /usr/local/lib/python3.7/dist-packages (from chembl_webresource_client) (2.23.0)\n",
            "Requirement already satisfied: easydict in /usr/local/lib/python3.7/dist-packages (from chembl_webresource_client) (1.9)\n",
            "Requirement already satisfied: chardet<4,>=3.0.2 in /usr/local/lib/python3.7/dist-packages (from requests>=2.18.4->chembl_webresource_client) (3.0.4)\n",
            "Requirement already satisfied: certifi>=2017.4.17 in /usr/local/lib/python3.7/dist-packages (from requests>=2.18.4->chembl_webresource_client) (2021.10.8)\n",
            "Requirement already satisfied: idna<3,>=2.5 in /usr/local/lib/python3.7/dist-packages (from requests>=2.18.4->chembl_webresource_client) (2.10)\n",
            "Collecting pyyaml>=5.4\n",
            "  Downloading PyYAML-6.0-cp37-cp37m-manylinux_2_5_x86_64.manylinux1_x86_64.manylinux_2_12_x86_64.manylinux2010_x86_64.whl (596 kB)\n",
            "\u001b[K     |████████████████████████████████| 596 kB 10.6 MB/s \n",
            "\u001b[?25hRequirement already satisfied: attrs<22.0,>=21.2 in /usr/local/lib/python3.7/dist-packages (from requests-cache~=0.7.0->chembl_webresource_client) (21.4.0)\n",
            "Collecting itsdangerous>=2.0.1\n",
            "  Downloading itsdangerous-2.0.1-py3-none-any.whl (18 kB)\n",
            "Collecting url-normalize<2.0,>=1.4\n",
            "  Downloading url_normalize-1.4.3-py2.py3-none-any.whl (6.8 kB)\n",
            "Requirement already satisfied: six in /usr/local/lib/python3.7/dist-packages (from url-normalize<2.0,>=1.4->requests-cache~=0.7.0->chembl_webresource_client) (1.15.0)\n",
            "Installing collected packages: url-normalize, pyyaml, itsdangerous, requests-cache, chembl-webresource-client\n",
            "  Attempting uninstall: pyyaml\n",
            "    Found existing installation: PyYAML 3.13\n",
            "    Uninstalling PyYAML-3.13:\n",
            "      Successfully uninstalled PyYAML-3.13\n",
            "  Attempting uninstall: itsdangerous\n",
            "    Found existing installation: itsdangerous 1.1.0\n",
            "    Uninstalling itsdangerous-1.1.0:\n",
            "      Successfully uninstalled itsdangerous-1.1.0\n",
            "\u001b[31mERROR: pip's dependency resolver does not currently take into account all the packages that are installed. This behaviour is the source of the following dependency conflicts.\n",
            "flask 1.1.4 requires itsdangerous<2.0,>=0.24, but you have itsdangerous 2.0.1 which is incompatible.\u001b[0m\n",
            "Successfully installed chembl-webresource-client-0.10.7 itsdangerous-2.0.1 pyyaml-6.0 requests-cache-0.7.5 url-normalize-1.4.3\n"
          ]
        }
      ],
      "source": [
        "#install chembl Install the ChEMBL web service package so that we can retrieve \n",
        "#bioactivity data from the ChEMBL Database.\n",
        "! pip install chembl_webresource_client"
      ]
    },
    {
      "cell_type": "code",
      "execution_count": null,
      "metadata": {
        "id": "023bi_gopaCO"
      },
      "outputs": [],
      "source": [
        "#import necessary libraries \n",
        "import pandas as pd\n",
        "from chembl_webresource_client.new_client import new_client"
      ]
    },
    {
      "cell_type": "code",
      "execution_count": null,
      "metadata": {
        "id": "oVe8MHqIpvfO"
      },
      "outputs": [],
      "source": [
        "#target search for estrogen \n",
        "#takes about 8 minutes to run\n",
        "target = new_client.target\n",
        "target_query = target.search('estrogen receptor')\n",
        "targets = pd.DataFrame.from_dict(target_query)\n",
        "targets"
      ]
    },
    {
      "cell_type": "code",
      "source": [
        "targets.head(20)"
      ],
      "metadata": {
        "id": "IgDOOrm1KtCc"
      },
      "execution_count": null,
      "outputs": []
    },
    {
      "cell_type": "markdown",
      "metadata": {
        "id": "_12VwBMx2CcG"
      },
      "source": [
        "Select target protein. Estrogen receptor protein in homo sapiens, the target protein. "
      ]
    },
    {
      "cell_type": "code",
      "execution_count": null,
      "metadata": {
        "colab": {
          "base_uri": "https://localhost:8080/",
          "height": 35
        },
        "id": "wuZqWAevvLVP",
        "outputId": "180574a0-a334-47d6-b81c-2cab4ab65aea"
      },
      "outputs": [
        {
          "output_type": "execute_result",
          "data": {
            "application/vnd.google.colaboratory.intrinsic+json": {
              "type": "string"
            },
            "text/plain": [
              "'CHEMBL206'"
            ]
          },
          "metadata": {},
          "execution_count": 16
        }
      ],
      "source": [
        "selected_target = targets.target_chembl_id[5]\n",
        "selected_target"
      ]
    },
    {
      "cell_type": "markdown",
      "metadata": {
        "id": "e37EtFal48F2"
      },
      "source": [
        "Select and retrieve bioactivity data reported as pChEMBL values."
      ]
    },
    {
      "cell_type": "code",
      "execution_count": null,
      "metadata": {
        "id": "z_ULrEJ147Tz"
      },
      "outputs": [],
      "source": [
        "activity = new_client.activity\n",
        "res = activity.filter(target_chembl_id=selected_target).filter(standard_type=\"IC50\")\n",
        "df = pd.DataFrame.from_dict(res)\n",
        "df.shape\n",
        "df.head()"
      ]
    },
    {
      "cell_type": "code",
      "execution_count": null,
      "metadata": {
        "id": "9HTh06rK-zdr"
      },
      "outputs": [],
      "source": [
        "#save bioactivity data to CSV file \n",
        "df.to_csv('bioactivity_estrogen_IC50_data.csv', index= False)"
      ]
    },
    {
      "cell_type": "code",
      "execution_count": null,
      "metadata": {
        "colab": {
          "base_uri": "https://localhost:8080/"
        },
        "id": "A-VbEHdB_QSD",
        "outputId": "1a79692c-9190-4943-e3ef-4ab4c7f065f7"
      },
      "outputs": [
        {
          "output_type": "stream",
          "name": "stdout",
          "text": [
            "Mounted at /content/gdrive/\n"
          ]
        }
      ],
      "source": [
        "#copy files to google drive \n",
        "from google.colab import drive\n",
        "drive.mount('/content/gdrive/', force_remount= True)"
      ]
    },
    {
      "cell_type": "code",
      "execution_count": null,
      "metadata": {
        "id": "ZLXZwrQX_obm",
        "colab": {
          "base_uri": "https://localhost:8080/"
        },
        "outputId": "4bb3a10d-b6e9-43ad-adce-06afecb44500"
      },
      "outputs": [
        {
          "output_type": "stream",
          "name": "stdout",
          "text": [
            "mkdir: cannot create directory ‘/content/gdrive/My Drive/Colab Notebooks/data’: File exists\n"
          ]
        }
      ],
      "source": [
        "#create a data folder in colab notebooks\n",
        "! mkdir \"/content/gdrive/My Drive/Colab Notebooks/data\""
      ]
    },
    {
      "cell_type": "code",
      "execution_count": null,
      "metadata": {
        "id": "Cgwf3Z42AMQI"
      },
      "outputs": [],
      "source": [
        "! cp bioactivity_estrogen_data.csv '/content/gdrive/My Drive/Colab Notebooks/data'"
      ]
    },
    {
      "cell_type": "code",
      "execution_count": null,
      "metadata": {
        "colab": {
          "base_uri": "https://localhost:8080/"
        },
        "id": "aDkMKRrGAfV1",
        "outputId": "536e9c01-ca70-4b2d-c8bd-0c5ec42c907e"
      },
      "outputs": [
        {
          "output_type": "stream",
          "name": "stdout",
          "text": [
            "-rw------- 1 root root 2407582 Jan 30 14:13 '/content/gdrive/My Drive/Colab Notebooks/data'\n"
          ]
        }
      ],
      "source": [
        "! ls -l '/content/gdrive/My Drive/Colab Notebooks/data'"
      ]
    },
    {
      "cell_type": "code",
      "execution_count": null,
      "metadata": {
        "colab": {
          "base_uri": "https://localhost:8080/"
        },
        "id": "cghyjafAAmEV",
        "outputId": "85dc4c63-a489-47d8-c4f7-34a0fede291f"
      },
      "outputs": [
        {
          "output_type": "stream",
          "name": "stdout",
          "text": [
            "bioactivity_estrogen_data.csv\t\t    gdrive\n",
            "bioactivity_estrogen_preprocessed_data.csv  sample_data\n"
          ]
        }
      ],
      "source": [
        "! ls"
      ]
    },
    {
      "cell_type": "code",
      "execution_count": null,
      "metadata": {
        "id": "ZRQIh8bPApob"
      },
      "outputs": [],
      "source": [
        "! head bioactivity_data.csv"
      ]
    },
    {
      "cell_type": "code",
      "source": [
        "# If any column has missing values drop them\n",
        "df2 = df[df.standard_value.notna()]\n",
        "df2.shape"
      ],
      "metadata": {
        "colab": {
          "base_uri": "https://localhost:8080/"
        },
        "id": "F8_v2GqlOoQi",
        "outputId": "ecc33b69-936b-4168-caf8-67a8ee102907"
      },
      "execution_count": null,
      "outputs": [
        {
          "output_type": "execute_result",
          "data": {
            "text/plain": [
              "(3551, 45)"
            ]
          },
          "metadata": {},
          "execution_count": 19
        }
      ]
    },
    {
      "cell_type": "markdown",
      "source": [
        "The bioactivity data is in the IC50 unit. Compounds having values of less than 1000 nM will be considered to be active while those greater than 10,000 nM will be considered to be inactive. As for those values in between 1,000 and 10,000 nM will be referred to as intermediate."
      ],
      "metadata": {
        "id": "w3Q2ZSBfO8B1"
      }
    },
    {
      "cell_type": "code",
      "source": [
        "bioactivity_threshold = []\n",
        "for i in df2.standard_value:\n",
        "  if float(i) >= 10000:\n",
        "    bioactivity_threshold.append(\"inactive\")\n",
        "  elif float(i) <= 1000:\n",
        "    bioactivity_threshold.append(\"active\")\n",
        "  else:\n",
        "    bioactivity_threshold.append(\"intermediate\")"
      ],
      "metadata": {
        "id": "uBP6Y_ROO4p9"
      },
      "execution_count": null,
      "outputs": []
    },
    {
      "cell_type": "code",
      "source": [
        "#Bioactivity category will be used for classifying the data and creating a machine learning model\n",
        "#It is added to the data set. \n",
        "from typing import BinaryIO\n",
        "selection = ['molecule_chembl_id', 'canonical_smiles', 'standard_value']\n",
        "df3 = df2[selection]\n",
        "bioactivity_class = pd.Series(bioactivity_threshold)\n",
        "df3['bioactivity_classification'] = bioactivity_class.values\n",
        "df3"
      ],
      "metadata": {
        "id": "NnHZbLGXPVKB"
      },
      "execution_count": null,
      "outputs": []
    },
    {
      "cell_type": "code",
      "source": [
        "#after viewing the dataset in excel, I noticed more missing values. those were \n",
        "#dropped also. \n",
        "df3 = df3[df3.bioactivity_classification.notna()]\n",
        "df3.shape"
      ],
      "metadata": {
        "id": "CF1UM9DKck30",
        "colab": {
          "base_uri": "https://localhost:8080/"
        },
        "outputId": "6fd05308-a827-4317-da18-0183f97985c3"
      },
      "execution_count": null,
      "outputs": [
        {
          "output_type": "execute_result",
          "data": {
            "text/plain": [
              "(3551, 4)"
            ]
          },
          "metadata": {},
          "execution_count": 23
        }
      ]
    },
    {
      "cell_type": "code",
      "source": [
        "df3 = df3[df3.canonical_smiles.notna()]\n",
        "df3.shape"
      ],
      "metadata": {
        "colab": {
          "base_uri": "https://localhost:8080/"
        },
        "id": "EcXMalqgczLE",
        "outputId": "11b87b14-f7cf-4330-cf06-8bec41ec7d55"
      },
      "execution_count": null,
      "outputs": [
        {
          "output_type": "execute_result",
          "data": {
            "text/plain": [
              "(3543, 4)"
            ]
          },
          "metadata": {},
          "execution_count": 24
        }
      ]
    },
    {
      "cell_type": "code",
      "source": [
        "#save bioactivity data to CSV file \n",
        "df3.to_csv('bioactivity_estrogen_preprocessed_data.csv', index= False)\n",
        "! cp bioactivity_estrogen_preprocessed_data.csv '/content/gdrive/My Drive/Colab Notebooks/data'"
      ],
      "metadata": {
        "id": "ei0gWXZPYIVd"
      },
      "execution_count": null,
      "outputs": []
    }
  ],
  "metadata": {
    "colab": {
      "name": "Part 1: Computational protein activity analysis .ipynb",
      "provenance": [],
      "authorship_tag": "ABX9TyNNZS0/y+qVYI3aHbRgtHem",
      "include_colab_link": true
    },
    "kernelspec": {
      "display_name": "Python 3",
      "name": "python3"
    },
    "language_info": {
      "name": "python"
    }
  },
  "nbformat": 4,
  "nbformat_minor": 0
}